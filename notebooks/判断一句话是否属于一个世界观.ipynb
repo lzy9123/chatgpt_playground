{
 "cells": [
  {
   "cell_type": "markdown",
   "metadata": {},
   "source": [
    "# 介绍\n",
    "\n",
    ">ChatGPT\n",
    ">要判断一句话是属于真实世界还是虚拟仙侠世界，可以考虑以下几个方面：\n",
    ">\n",
    ">上下文：观察这句话所处的上下文环境。如果这句话出现在现实生活中的场景或讨论中，那么它很可能属于真实世界。如果这句话出现在描述虚构故事、游戏或小说的背景下，那么它可能属于虚拟仙侠世界。\n",
    ">\n",
    ">内容与现实的符合度：思考这句话所陈述的内容是否与我们在真实世界中的经验和认知相符。如果这句话提到了超自然的力量、仙侠世界中特有的事物、人物或事件，那么它可能属于虚拟仙侠世界。如果这句话描述了我们在现实世界中常见的事物、人物或事件，那么它更有可能属于真实世界。\n",
    ">\n",
    ">可验证性：考虑这句话是否可以被验证或证明。如果这句话涉及虚构的仙侠元素，例如魔法、修炼法术等，无法通过现实的观察、实验或证据来验证，那么它更有可能属于虚拟仙侠世界。如果这句话涉及现实生活中的事实、事件或已知的真实信息，可以通过查证或验证来确认，那么它更有可能属于真实世界。\n",
    ">\n",
    ">语言风格和表达方式：注意这句话所使用的语言风格和表达方式。虚拟仙侠世界通常有其独特的修辞、词汇和叙事风格，可能包含与现实世界不同的词语、短语或俗语。如果这句话使用了仙侠世界中常见的特定词汇或短语，那么它更有可能属于虚拟仙侠世界。\n",
    ">\n",
    ">请注意，以上是一些常见的判断指标，但并非绝对可靠。有些情况下，一句话可能具有模糊或混合的特征，使其不容易确定它所属的世界。在判断时需要综合考虑上述因素，并根据具体情境和语境进行判断。\n",
    "\n",
    "采取分而治之的方法:\n",
    " 1. 提取句子中的<人名>，<物品>，以及<事件>\n",
    " 2. 使用搜索API获取对应<人名>，<物品>，以及<事件>的世界观背景\n",
    " 3. 排序搜索结果\n",
    " 4. 归纳得出最终结论\n",
    " \n",
    "![main idea](https://raw.githubusercontent.com/openai/openai-cookbook/de3bd5843433a8240f9bcb8e275ccb9dac7f7f0a/images/search_rerank_answer.png)\n",
    "\n",
    "https://github.com/openai/openai-cookbook/blob/main/examples/Question_answering_using_a_search_API.ipynb\n"
   ]
  },
  {
   "cell_type": "code",
   "execution_count": 1,
   "metadata": {},
   "outputs": [
    {
     "name": "stdout",
     "output_type": "stream",
     "text": [
      "Requirement already satisfied: openai in /Users/lizhiyu/anaconda3/lib/python3.7/site-packages (0.27.8)\n",
      "Requirement already satisfied: google-api-python-client in /Users/lizhiyu/anaconda3/lib/python3.7/site-packages (1.12.8)\n",
      "Requirement already satisfied: tqdm in /Users/lizhiyu/anaconda3/lib/python3.7/site-packages (from openai) (4.32.1)\n",
      "Requirement already satisfied: typing-extensions; python_version < \"3.8\" in /Users/lizhiyu/anaconda3/lib/python3.7/site-packages (from openai) (4.6.3)\n",
      "Requirement already satisfied: aiohttp in /Users/lizhiyu/anaconda3/lib/python3.7/site-packages (from openai) (3.8.4)\n",
      "Requirement already satisfied: requests>=2.20 in /Users/lizhiyu/anaconda3/lib/python3.7/site-packages (from openai) (2.22.0)\n",
      "Requirement already satisfied: google-auth-httplib2>=0.0.3 in /Users/lizhiyu/anaconda3/lib/python3.7/site-packages (from google-api-python-client) (0.0.4)\n",
      "Requirement already satisfied: uritemplate<4dev,>=3.0.0 in /Users/lizhiyu/anaconda3/lib/python3.7/site-packages (from google-api-python-client) (3.0.1)\n",
      "Requirement already satisfied: httplib2<1dev,>=0.15.0 in /Users/lizhiyu/anaconda3/lib/python3.7/site-packages (from google-api-python-client) (0.18.1)\n",
      "Requirement already satisfied: six<2dev,>=1.13.0 in /Users/lizhiyu/anaconda3/lib/python3.7/site-packages (from google-api-python-client) (1.15.0)\n",
      "Requirement already satisfied: google-auth>=1.16.0 in /Users/lizhiyu/anaconda3/lib/python3.7/site-packages (from google-api-python-client) (1.24.0)\n",
      "Requirement already satisfied: google-api-core<2dev,>=1.21.0 in /Users/lizhiyu/anaconda3/lib/python3.7/site-packages (from google-api-python-client) (1.24.1)\n",
      "Requirement already satisfied: multidict<7.0,>=4.5 in /Users/lizhiyu/anaconda3/lib/python3.7/site-packages (from aiohttp->openai) (6.0.4)\n",
      "Requirement already satisfied: frozenlist>=1.1.1 in /Users/lizhiyu/anaconda3/lib/python3.7/site-packages (from aiohttp->openai) (1.3.3)\n",
      "Requirement already satisfied: asynctest==0.13.0; python_version < \"3.8\" in /Users/lizhiyu/anaconda3/lib/python3.7/site-packages (from aiohttp->openai) (0.13.0)\n",
      "Requirement already satisfied: yarl<2.0,>=1.0 in /Users/lizhiyu/anaconda3/lib/python3.7/site-packages (from aiohttp->openai) (1.9.2)\n",
      "Requirement already satisfied: charset-normalizer<4.0,>=2.0 in /Users/lizhiyu/anaconda3/lib/python3.7/site-packages (from aiohttp->openai) (3.1.0)\n",
      "Requirement already satisfied: attrs>=17.3.0 in /Users/lizhiyu/anaconda3/lib/python3.7/site-packages (from aiohttp->openai) (19.1.0)\n",
      "Requirement already satisfied: async-timeout<5.0,>=4.0.0a3 in /Users/lizhiyu/anaconda3/lib/python3.7/site-packages (from aiohttp->openai) (4.0.2)\n",
      "Requirement already satisfied: aiosignal>=1.1.2 in /Users/lizhiyu/anaconda3/lib/python3.7/site-packages (from aiohttp->openai) (1.3.1)\n",
      "Requirement already satisfied: urllib3!=1.25.0,!=1.25.1,<1.26,>=1.21.1 in /Users/lizhiyu/anaconda3/lib/python3.7/site-packages (from requests>=2.20->openai) (1.24.2)\n",
      "Requirement already satisfied: chardet<3.1.0,>=3.0.2 in /Users/lizhiyu/anaconda3/lib/python3.7/site-packages (from requests>=2.20->openai) (3.0.4)\n",
      "Requirement already satisfied: idna<2.9,>=2.5 in /Users/lizhiyu/anaconda3/lib/python3.7/site-packages (from requests>=2.20->openai) (2.8)\n",
      "Requirement already satisfied: certifi>=2017.4.17 in /Users/lizhiyu/anaconda3/lib/python3.7/site-packages (from requests>=2.20->openai) (2019.9.11)\n",
      "Requirement already satisfied: setuptools>=40.3.0 in /Users/lizhiyu/anaconda3/lib/python3.7/site-packages (from google-auth>=1.16.0->google-api-python-client) (41.0.1)\n",
      "Requirement already satisfied: rsa<5,>=3.1.4; python_version >= \"3.6\" in /Users/lizhiyu/anaconda3/lib/python3.7/site-packages (from google-auth>=1.16.0->google-api-python-client) (3.4.2)\n",
      "Requirement already satisfied: cachetools<5.0,>=2.0.0 in /Users/lizhiyu/anaconda3/lib/python3.7/site-packages (from google-auth>=1.16.0->google-api-python-client) (4.2.0)\n",
      "Requirement already satisfied: pyasn1-modules>=0.2.1 in /Users/lizhiyu/anaconda3/lib/python3.7/site-packages (from google-auth>=1.16.0->google-api-python-client) (0.2.8)\n",
      "Requirement already satisfied: googleapis-common-protos<2.0dev,>=1.6.0 in /Users/lizhiyu/anaconda3/lib/python3.7/site-packages (from google-api-core<2dev,>=1.21.0->google-api-python-client) (1.52.0)\n",
      "Requirement already satisfied: pytz in /Users/lizhiyu/anaconda3/lib/python3.7/site-packages (from google-api-core<2dev,>=1.21.0->google-api-python-client) (2019.1)\n",
      "Requirement already satisfied: protobuf>=3.12.0 in /Users/lizhiyu/anaconda3/lib/python3.7/site-packages (from google-api-core<2dev,>=1.21.0->google-api-python-client) (3.14.0)\n",
      "Requirement already satisfied: pyasn1>=0.1.3 in /Users/lizhiyu/anaconda3/lib/python3.7/site-packages (from rsa<5,>=3.1.4; python_version >= \"3.6\"->google-auth>=1.16.0->google-api-python-client) (0.4.7)\n",
      "\u001b[33mWARNING: You are using pip version 19.3.1; however, version 23.1.2 is available.\n",
      "You should consider upgrading via the 'pip install --upgrade pip' command.\u001b[0m\n"
     ]
    }
   ],
   "source": [
    "# installations\n",
    "!pip install openai google-api-python-client"
   ]
  },
  {
   "cell_type": "markdown",
   "metadata": {},
   "source": [
    "# Prerequiste\n",
    "## openai key\n",
    "add an api from openai console: https://platform.openai.com/account/api-keys\n",
    "## google search API\n",
    "add customsearch api: https://console.cloud.google.com/apis/library/customsearch.googleapis.com"
   ]
  },
  {
   "cell_type": "code",
   "execution_count": 2,
   "metadata": {},
   "outputs": [
    {
     "name": "stdout",
     "output_type": "stream",
     "text": [
      "env: OPENAI_API_KEY=\"<openai_api_key>\"\n",
      "env: GOOGLE_SEARCH_API_KEY=\"<openai_api_key>\"\n"
     ]
    }
   ],
   "source": [
    "%env OPENAI_API_KEY=\"<openai_api_key>\"\n",
    "%env GOOGLE_SEARCH_API_KEY=\"<openai_api_key>\""
   ]
  },
  {
   "cell_type": "markdown",
   "metadata": {},
   "source": [
    "## 1. 提取句子中的<人名>，<物品>，以及<事件>"
   ]
  },
  {
   "cell_type": "code",
   "execution_count": 4,
   "metadata": {},
   "outputs": [],
   "source": [
    "import os\n",
    "import openai\n",
    "from functools import lru_cache\n",
    "\n",
    "\n",
    "openai_api_key = os.getenv(\"OPENAI_API_KEY\")\n",
    "GPT_MODEL = \"gpt-3.5-turbo\"\n",
    "\n",
    "# 读取json形式的chatGPT回答\n",
    "@lru_cache(maxsize=None)\n",
    "def json_gpt(input: str, verbose: bool = True):\n",
    "    completion = openai.ChatCompletion.create(\n",
    "        model=GPT_MODEL,\n",
    "        messages=[\n",
    "            {\"role\": \"system\", \"content\": \"You are ChatGPT, a large language model trained by OpenAI. Answer as concisely as possible. Knowledge cutoff: {knowledge_cutoff} Current date: {current_date}\"},\n",
    "            {\"role\": \"user\", \"content\": input},\n",
    "        ],\n",
    "        stop='\\n'\n",
    "    )\n",
    "\n",
    "    text = completion.choices[0].message.content\n",
    "    if verbose:\n",
    "        print(text)\n",
    "    parsed = json.loads(text)\n",
    "\n",
    "    return parsed"
   ]
  },
  {
   "cell_type": "code",
   "execution_count": 5,
   "metadata": {},
   "outputs": [],
   "source": [
    "USER_QUESTION = \"如何学会豪火球术\""
   ]
  },
  {
   "cell_type": "code",
   "execution_count": 6,
   "metadata": {},
   "outputs": [
    {
     "name": "stdout",
     "output_type": "stream",
     "text": [
      "{\"人物\": [], \"物品\": [\"豪火球术\"], \"事件\": [\"学会\"]}\n"
     ]
    },
    {
     "data": {
      "text/plain": [
       "{'人物': [], '物品': ['豪火球术'], '事件': ['学会']}"
      ]
     },
     "execution_count": 6,
     "metadata": {},
     "output_type": "execute_result"
    }
   ],
   "source": [
    "# 提取句子中的<人名>，<物品>，以及<事件>\n",
    "import json\n",
    "\n",
    "\n",
    "QUERIES_INPUT = f\"\"\"\n",
    "要求：提取以下语句中人物、物品以及事件\n",
    "输出：仅输出json格式，无须解释\n",
    "语句:  {USER_QUESTION}\n",
    "\n",
    "Format: {{\"人物\": [\"人物1\", \"人物2\"], \"物品\":[\"物品1\"], \"事件\": [\"事件1\", \"事件2\"]}}\n",
    "\"\"\"\n",
    "\n",
    "queries = json_gpt(QUERIES_INPUT)\n",
    "\n",
    "queries"
   ]
  },
  {
   "cell_type": "markdown",
   "metadata": {},
   "source": [
    "# 2. 用google search API查找相关关键词"
   ]
  },
  {
   "cell_type": "code",
   "execution_count": 7,
   "metadata": {},
   "outputs": [
    {
     "data": {
      "text/plain": [
       "[{'title': '火遁·豪火球之术_百度百科',\n",
       "  'description': '豪火球之术，日本漫画《火影忍者》及其衍生作品中宇智波一族常用的火遁忍术，等级为C（中忍级别），《临之书》称之为高难度忍术。查克拉聚集在喉咙后，从口中向前方\\xa0...',\n",
       "  'url': 'https://baike.baidu.com/item/%E7%81%AB%E9%81%81%C2%B7%E8%B1%AA%E7%81%AB%E7%90%83%E4%B9%8B%E6%9C%AF/18264758'},\n",
       " {'title': '豪火球术，这个术是《火影》里最常用的火遁',\n",
       "  'description': 'Jun 19, 2018 ... 这是第一种破解豪火球术的方式——闪避，也是最常见的一种，毕竟豪火球术只是个直线大范围攻击，只要判断准了攻击方向和路径，闪避是很容易做到的。',\n",
       "  'url': 'http://www.sohu.com/a/236556548_100170596'},\n",
       " {'title': '豪火球术_百度百科',\n",
       "  'description': '豪火球术是忍法中的火遁。',\n",
       "  'url': 'https://baike.baidu.com/item/%E8%B1%AA%E7%81%AB%E7%90%83%E6%9C%AF/1076038'},\n",
       " {'title': '火遁豪火球之术怎么发音的，顺便讲下印',\n",
       "  'description': '豪火球术，豪火球の术--ごうがきゅうのじゅつ，豪火球之术结印式：巳－未－申－亥－午－寅。 豪火球之术，日本漫画《火影忍者》及其衍生作品中宇智波一族常用的火遁忍\\xa0...',\n",
       "  'url': 'https://zhidao.baidu.com/question/27386150'},\n",
       " {'title': '火影忍术结印赶紧学起来- 知乎',\n",
       "  'description': 'Nov 14, 2020 ... 首先给大家介绍几个最基本的手印。 一·火遁豪火球之术：巳－未－申－亥－午－寅。从口中吐出巨大火球攻击敌人的忍术，其威力可以烧出直径7公尺的洞来\\xa0...',\n",
       "  'url': 'https://zhuanlan.zhihu.com/p/293394837'},\n",
       " {'title': '豪火球术的结印顺序',\n",
       "  'description': '豪火球术的结印顺序 ...展开 ...收起. 配图加50分 ...收起. 提问. 答题 有奖励. 共1个回答. 提交优质回答，最高可获得现金3元. 查看规则. 收起有奖发布. 问题不好答？',\n",
       "  'url': 'https://zhidao.baidu.com/question/489576539825406692.html'},\n",
       " {'title': '火影：动漫里豪火球术要从嘴里喷火，卡卡西用此术，为何无损面罩 ...',\n",
       "  'description': 'Sep 4, 2020 ... 旗木卡卡西使用火遁·豪火球之术时，面罩没有被火烧毁，就是这部动漫里众多未解之谜之一。动漫里设定了三大瞳术，宇智波家族的写..._新浪网.',\n",
       "  'url': 'https://k.sina.com.cn/article_7176811671_1abc5749700100puqv.html?from=animation'},\n",
       " {'title': '豪火球之术真人版_火遁豪火球之术真人版_卡通豪火球之术中文-抖音',\n",
       "  'description': 'Dec 18, 2022 ... 您在查找“豪火球之术真人版”吗？抖音短视频，帮你找到更多精彩视频内容！让每一个人看见并连接更大的世界，让现实生活更美好。',\n",
       "  'url': 'https://www.douyin.com/zhuanti/7180580127825414177'},\n",
       " {'title': '火遁豪火球之术的结印手势图_头条',\n",
       "  'description': '您在查找火遁豪火球之术的结印手势图吗？今日头条提供详尽的搜索结果聚合，每天实时更新。我们致力于连接人与信息，让优质丰富的信息得到高效精准的分发，促使信息创造\\xa0...',\n",
       "  'url': 'https://www.toutiao.com/keyword/165490223'},\n",
       " {'title': '再论「火遁·豪火球之术」 - 哔哩哔哩',\n",
       "  'description': 'Dec 23, 2018 ... 做视频的时候我突然发现，「火遁·豪火球之术」其实有好几种印。传统的结印也就是我们大家经常见到的印是「巳－未－申－亥－午－寅」注意一下「未」印\\xa0...',\n",
       "  'url': 'https://www.bilibili.com/read/cv1749007/'},\n",
       " {'title': 'American Psychological Association (APA)',\n",
       "  'description': 'The American Psychological Association (APA) is a scientific and professional organization that represents psychologists in the United States.',\n",
       "  'url': 'https://www.apa.org/'},\n",
       " {'title': 'American Academy of Pediatrics',\n",
       "  'description': 'The American Academy of Pediatrics (AAP) is dedicated to improving the health and well-being of children. Explore our comprehensive resources,\\xa0...',\n",
       "  'url': 'https://www.aap.org/'},\n",
       " {'title': 'Brookings - Quality. Independence. Impact.',\n",
       "  'description': 'The Brookings Institution is a nonprofit public policy organization based in Washington, DC. Our mission is to conduct in-depth research that leads to new\\xa0...',\n",
       "  'url': 'https://www.brookings.edu/'},\n",
       " {'title': 'American Physical Society: APS Physics',\n",
       "  'description': 'American Physical Society (APS) is a non-profit membership organization working to advance and diffuse the knowledge of physics through its outstanding\\xa0...',\n",
       "  'url': 'https://www.aps.org/'},\n",
       " {'title': 'American Society for Microbiology',\n",
       "  'description': 'The American Society for Microbiology (ASM) is the oldest and largest single life science membership organization in the world. Membership has grown from 59\\xa0...',\n",
       "  'url': 'https://asm.org/'},\n",
       " {'title': 'American Chemical Society',\n",
       "  'description': \"ACS is one of the world's largest scientific societies and the premier home of chemistry professionals. Find career opportunities, educational resources,\\xa0...\",\n",
       "  'url': 'https://www.acs.org/'},\n",
       " {'title': '中国计算机学会',\n",
       "  'description': '中国计算机学会（CCF）成立于1962年，全国性学会，独立社团法人，中国科学技术协会成员。CCF是中国计算机及相关领域的学术团体，宗旨是为本领域专业人士的学术和职业\\xa0...',\n",
       "  'url': 'https://www.ccf.org.cn/'},\n",
       " {'title': '中国植物学会',\n",
       "  'description': '欢迎访问中国植物学会！ 2023年7月2日星期日17:00:05.',\n",
       "  'url': 'http://www.botany.org.cn/'},\n",
       " {'title': 'American Society of Hematology - Hematology.org',\n",
       "  'description': \"The world's largest professional society serving both clinicians and scientists around the world who are working to conquer blood diseases.\",\n",
       "  'url': 'https://www.hematology.org/'},\n",
       " {'title': '中国人民外交学会官网',\n",
       "  'description': '《外交》季刊是中国人民外交学会于1985年10月创办的英文刊物，现以中英文双语发行，通过向外交部有关司局、知名专家学者和资深外交官特约撰稿等方式，介绍中国的外交政策和\\xa0...',\n",
       "  'url': 'http://www.cpifa.org/'}]"
      ]
     },
     "execution_count": 7,
     "metadata": {},
     "output_type": "execute_result"
    }
   ],
   "source": [
    "# 用谷歌查找对应<人物>、<物品>以及<事件>\n",
    "from googleapiclient.discovery import build\n",
    "import itertools\n",
    "\n",
    "\n",
    "def search_google(\n",
    "    query: str,\n",
    "    developerKey: str = os.getenv(\"GOOGLE_SEARCH_API_KEY\"),\n",
    "    cx: str = \"f68edb5b01f854626\",  # a search engine key\n",
    ") -> dict:\n",
    "    service = build(\n",
    "        \"customsearch\", \"v1\", developerKey=developerKey,\n",
    "    )\n",
    "\n",
    "    res = (\n",
    "        service.cse()\n",
    "        .list(\n",
    "            q=query,\n",
    "            cx=cx,\n",
    "        )\n",
    "        .execute()\n",
    "    )\n",
    "    \n",
    "    results = []\n",
    "    for item in res[\"items\"]:\n",
    "        results.append({\"title\": item[\"title\"], \"description\": item[\"snippet\"], \"url\": item[\"link\"]})\n",
    "    return results\n",
    "\n",
    "\n",
    "items = []\n",
    "flat_queries = list(itertools.chain.from_iterable(queries.values()))\n",
    "for query in flat_queries:\n",
    "    if query:\n",
    "        items.extend(search_google(query))\n",
    "        \n",
    "items"
   ]
  },
  {
   "cell_type": "markdown",
   "metadata": {},
   "source": [
    "# 3. 相关度排序\n",
    "相关度 = cosine_similarity(sentence_embedding(<虚拟回答>), sentence_embedding(<搜索文本>))"
   ]
  },
  {
   "cell_type": "code",
   "execution_count": 8,
   "metadata": {},
   "outputs": [
    {
     "name": "stdout",
     "output_type": "stream",
     "text": [
      "{\"hypotheticalAnswer\": \"通过以下步骤可以判断以下这句话属于现实世界还是虚拟仙侠世界：\\n\\n1. 查阅人物资料：了解是否存在能够施展豪火球术的人物\\n\\n2. 研究物品信息：探究是否存在相关的法术书籍、魔法器具等\\n\\n3. 探索事件历史：寻找是否有有关豪火球术的历史事件记录\\n\\n以上步骤可以为判断提供一些线索，但最终结论需要综合多方面的证据。\"}\n"
     ]
    },
    {
     "data": {
      "text/plain": [
       "'通过以下步骤可以判断以下这句话属于现实世界还是虚拟仙侠世界：\\n\\n1. 查阅人物资料：了解是否存在能够施展豪火球术的人物\\n\\n2. 研究物品信息：探究是否存在相关的法术书籍、魔法器具等\\n\\n3. 探索事件历史：寻找是否有有关豪火球术的历史事件记录\\n\\n以上步骤可以为判断提供一些线索，但最终结论需要综合多方面的证据。'"
      ]
     },
     "execution_count": 8,
     "metadata": {},
     "output_type": "execute_result"
    }
   ],
   "source": [
    "HA_INPUT = f\"\"\"\n",
    "Generate a hypothetical answer to the user's question. This answer will be used to rank search results. \n",
    "Don't give final conclusion but some steps instead. Don't use any actual facts. Use placeholders like 人物, 物品, 事件. Pretend you have search results of the above placeholders. \n",
    "\n",
    "User question: 如何判断以下这句话属于现实世界还是虚拟仙侠世界: {USER_QUESTION}\n",
    "\n",
    "Format: {{\"hypotheticalAnswer\": \"虚拟回答\"}}\n",
    "\"\"\"\n",
    "\n",
    "hypothetical_answer = json_gpt(HA_INPUT)[\"hypotheticalAnswer\"]\n",
    "\n",
    "hypothetical_answer"
   ]
  },
  {
   "cell_type": "code",
   "execution_count": 9,
   "metadata": {},
   "outputs": [],
   "source": [
    "from typing import List\n",
    "\n",
    "\n",
    "def embeddings(input: List[str]) -> List[List[str]]:\n",
    "    response = openai.Embedding.create(model=\"text-embedding-ada-002\", input=input)\n",
    "    return [data.embedding for data in response.data]\n",
    "\n",
    "\n",
    "hypothetical_answer_embedding = embeddings(hypothetical_answer)[0]\n",
    "item_embeddings = embeddings(\n",
    "    [\n",
    "        f\"{item['title']} {item['description']}\"\n",
    "        for item in items\n",
    "    ]\n",
    ")"
   ]
  },
  {
   "cell_type": "code",
   "execution_count": 10,
   "metadata": {},
   "outputs": [
    {
     "data": {
      "text/plain": [
       "[0.8180832919433096,\n",
       " 0.828616366337815,\n",
       " 0.8096793495181102,\n",
       " 0.80669858217406,\n",
       " 0.8268265795803552,\n",
       " 0.8285931977432259,\n",
       " 0.8280657819001908,\n",
       " 0.8350377616547668,\n",
       " 0.8208030354381239,\n",
       " 0.8180600158683436]"
      ]
     },
     "execution_count": 10,
     "metadata": {},
     "output_type": "execute_result"
    }
   ],
   "source": [
    "# Calculate cosine similarity\n",
    "import numpy as np\n",
    "\n",
    "\n",
    "cosine_similarities = []\n",
    "for item_embedding in item_embeddings:\n",
    "    cosine_similarities.append(np.dot(hypothetical_answer_embedding, item_embedding))\n",
    "\n",
    "cosine_similarities[0:10]"
   ]
  },
  {
   "cell_type": "markdown",
   "metadata": {},
   "source": [
    "## 只选择相关度最高的top5的结果，降低chatgpt文本数量"
   ]
  },
  {
   "cell_type": "code",
   "execution_count": 11,
   "metadata": {},
   "outputs": [
    {
     "name": "stdout",
     "output_type": "stream",
     "text": [
      "Top 5 items: \n",
      "\n",
      "Title: 豪火球之术真人版_火遁豪火球之术真人版_卡通豪火球之术中文-抖音\n",
      "Description: Dec 18, 2022 ... 您在查找“豪火球之术真人版”吗？抖音短视频，帮你找到更多精彩视频内容！让每一个人看见并连接更大的世界，让现实生活更美好。\n",
      "Score: 0.8350377616547668\n",
      "\n",
      "Title: 豪火球术，这个术是《火影》里最常用的火遁\n",
      "Description: Jun 19, 2018 ... 这是第一种破解豪火球术的方式——闪避，也是最常见的一种，毕竟豪火球术只是个直线大范围攻击，只要判断准了攻击方向和路径，闪避是很容易做到的。\n",
      "Score: 0.828616366337815\n",
      "\n",
      "Title: 豪火球术的结印顺序\n",
      "Description: 豪火球术的结印顺序 ...展开 ...收起. 配图加50分 ...收起. 提问. 答题 有奖励. 共1个回答. 提交优质回答，最高可获得现金3元. 查看规则. 收起有奖发布. 问题不好答？\n",
      "Score: 0.8285931977432259\n",
      "\n",
      "Title: 火影：动漫里豪火球术要从嘴里喷火，卡卡西用此术，为何无损面罩 ...\n",
      "Description: Sep 4, 2020 ... 旗木卡卡西使用火遁·豪火球之术时，面罩没有被火烧毁，就是这部动漫里众多未解之谜之一。动漫里设定了三大瞳术，宇智波家族的写..._新浪网.\n",
      "Score: 0.8280657819001908\n",
      "\n",
      "Title: 火影忍术结印赶紧学起来- 知乎\n",
      "Description: Nov 14, 2020 ... 首先给大家介绍几个最基本的手印。 一·火遁豪火球之术：巳－未－申－亥－午－寅。从口中吐出巨大火球攻击敌人的忍术，其威力可以烧出直径7公尺的洞来 ...\n",
      "Score: 0.8268265795803552\n",
      "\n"
     ]
    }
   ],
   "source": [
    "cored_items = zip(items, cosine_similarities)\n",
    "\n",
    "# Sort articles by cosine similarity\n",
    "sorted_items = sorted(cored_items, key=lambda x: x[1], reverse=True)\n",
    "\n",
    "# Print top 5 items in similarity\n",
    "print(\"Top 5 items:\", \"\\n\")\n",
    "\n",
    "for article, score in sorted_items[0:5]:\n",
    "    print(\"Title:\", article[\"title\"])\n",
    "    print(\"Description:\", article[\"description\"])\n",
    "    print(\"Score:\", score)\n",
    "    print()"
   ]
  },
  {
   "cell_type": "markdown",
   "metadata": {},
   "source": [
    "# 4. 根据搜索结果生成最后的回答"
   ]
  },
  {
   "cell_type": "code",
   "execution_count": 12,
   "metadata": {},
   "outputs": [],
   "source": [
    "formatted_top_results = [\n",
    "    {\n",
    "        \"title\": item[\"title\"],\n",
    "        \"description\": item[\"description\"],\n",
    "        \"url\": item[\"url\"],\n",
    "    }\n",
    "    for item, _ in sorted_items[0:5]\n",
    "]"
   ]
  },
  {
   "cell_type": "code",
   "execution_count": 13,
   "metadata": {},
   "outputs": [
    {
     "data": {
      "text/markdown": [
       "{\"属于虚拟世界的概率(%)\": \"80%\", \"detailed\": \"根据搜索结果，豪火球术是火影动漫中的忍术技能，属于虚拟世界。相关搜索结果包括豪火球术的破解方式、结印顺序以及在动漫中的使用情况。参考链接：[豪火球术，这个术是《火影》里最常用的火遁](http://www.sohu.com/a/236556548_100170596)，[火影：动漫里豪火球术要从嘴里喷火，卡卡西用此术，为何无损面罩](https://k.sina.com.cn/article_7176811671_1abc5749700100puqv.html?from=animation)，[火影忍术结印赶紧学起来- 知乎](https://zhuanlan.zhihu.com/p/293394837)\"}"
      ],
      "text/plain": [
       "<IPython.core.display.Markdown object>"
      ]
     },
     "metadata": {},
     "output_type": "display_data"
    }
   ],
   "source": [
    "from IPython import display  # for pretty printing\n",
    "\n",
    "\n",
    "ANSWER_INPUT = f\"\"\"\n",
    "Generate an answer to the user's question based on the given search results. \n",
    "TOP_RESULTS: {formatted_top_results}\n",
    "USER_QUESTION: 如何判断以下这句话属于现实世界还是虚拟仙侠世界: {USER_QUESTION}\n",
    "\n",
    "Include as much information as possible in the answer. Reference the relevant search result urls as markdown links. Provide probabilities if it is a classification problem.\n",
    "\n",
    "Format: {{\"属于虚拟世界的概率(%)\": \"probability\", \"detailed\": \"详细解释\"}}\n",
    "\"\"\"\n",
    "\n",
    "completion = openai.ChatCompletion.create(\n",
    "    model=GPT_MODEL,\n",
    "    messages=[\n",
    "        {\"role\": \"system\", \"content\": \"You are ChatGPT, a large language model trained by OpenAI. Answer as concisely as possible. Knowledge cutoff: {knowledge_cutoff} Current date: {current_date}\"},\n",
    "        {\"role\": \"user\", \"content\": ANSWER_INPUT},\n",
    "    ],\n",
    "    temperature=0.5,\n",
    "    stream=True,\n",
    ")\n",
    "\n",
    "text = \"\"\n",
    "for chunk in completion:\n",
    "    text += chunk.choices[0].delta.get(\"content\", \"\")\n",
    "    display.clear_output(wait=True)\n",
    "    display.display(display.Markdown(text))\n"
   ]
  }
 ],
 "metadata": {
  "kernelspec": {
   "display_name": "Python 3",
   "language": "python",
   "name": "python3"
  },
  "language_info": {
   "codemirror_mode": {
    "name": "ipython",
    "version": 3
   },
   "file_extension": ".py",
   "mimetype": "text/x-python",
   "name": "python",
   "nbconvert_exporter": "python",
   "pygments_lexer": "ipython3",
   "version": "3.7.3"
  }
 },
 "nbformat": 4,
 "nbformat_minor": 2
}
